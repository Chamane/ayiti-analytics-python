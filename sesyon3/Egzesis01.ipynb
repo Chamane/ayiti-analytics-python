{
 "cells": [
  {
   "cell_type": "markdown",
   "metadata": {},
   "source": [
    "# Klass ak enstans nan Python"
   ]
  },
  {
   "cell_type": "markdown",
   "metadata": {},
   "source": [
    "## Egzèsis"
   ]
  },
  {
   "cell_type": "markdown",
   "metadata": {},
   "source": [
    "Nou bezwen manipile matris $2\\times $2\n",
    "\n",
    "$A = \\left( \\begin{array}{cc} a_{11} & a_{12} \\\\\n",
    "a_{21} & a_{22}\\end{array} \\right)$\n",
    "\n",
    "Detèminan pou matris kare 2x2 yo se $det (A) = a_{11}.a_{22} - a_{12}.a_{21}$"
   ]
  },
  {
   "cell_type": "markdown",
   "metadata": {},
   "source": [
    "Se yon pretèks pou nou pou nou few manipile objè yo nan Python men anjeneral nou prefere itilize klass `matrix` ki nan [`numpy`](http://numpy.org). \n",
    "\n",
    "Pou egzanp wap enplemante **pwop klass `Matrix2`** ou pou nou kapab mete an aksyon konsèp ak mekanis klas yo nan Python "
   ]
  },
  {
   "cell_type": "code",
   "execution_count": 4,
   "metadata": {},
   "outputs": [],
   "source": [
    "class Matrix2:\n",
    "    \"\"\"Egzanp senp de yon matris kare 2x2\"\"\"\n",
    "    pass"
   ]
  },
  {
   "cell_type": "markdown",
   "metadata": {},
   "source": [
    "Wap remake ke nou kapab mete docstring nan klass yo menm jan nou te fel pou fonksyon yo"
   ]
  },
  {
   "cell_type": "code",
   "execution_count": 5,
   "metadata": {},
   "outputs": [
    {
     "name": "stdout",
     "output_type": "stream",
     "text": [
      "Help on class Matrix2 in module __main__:\n",
      "\n",
      "class Matrix2(builtins.object)\n",
      " |  Egzanp senp de yon matris kare 2x2\n",
      " |  \n",
      " |  Data descriptors defined here:\n",
      " |  \n",
      " |  __dict__\n",
      " |      dictionary for instance variables (if defined)\n",
      " |  \n",
      " |  __weakref__\n",
      " |      list of weak references to the object (if defined)\n",
      "\n"
     ]
    }
   ],
   "source": [
    "help(Matrix2)"
   ]
  },
  {
   "cell_type": "code",
   "execution_count": 18,
   "metadata": {},
   "outputs": [],
   "source": [
    "matris = Matrix2(1, 2, 2, 1)"
   ]
  },
  {
   "cell_type": "code",
   "execution_count": null,
   "metadata": {},
   "outputs": [],
   "source": [
    "matris.deteminan()"
   ]
  }
 ],
 "metadata": {
  "kernelspec": {
   "display_name": "Python 3",
   "language": "python",
   "name": "python3"
  },
  "language_info": {
   "codemirror_mode": {
    "name": "ipython",
    "version": 3
   },
   "file_extension": ".py",
   "mimetype": "text/x-python",
   "name": "python",
   "nbconvert_exporter": "python",
   "pygments_lexer": "ipython3",
   "version": "3.8.6"
  }
 },
 "nbformat": 4,
 "nbformat_minor": 4
}
