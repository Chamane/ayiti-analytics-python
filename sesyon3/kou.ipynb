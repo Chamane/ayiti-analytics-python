{
 "cells": [
  {
   "cell_type": "markdown",
   "metadata": {},
   "source": [
    "# Oryante Objè nan Python"
   ]
  },
  {
   "cell_type": "markdown",
   "metadata": {},
   "source": [
    "### Deklarasyon yon klass nan python"
   ]
  },
  {
   "cell_type": "code",
   "execution_count": 6,
   "metadata": {},
   "outputs": [],
   "source": [
    "class Machinn:\n",
    "    non_jenerik = \"Machinn\"\n",
    "    def enstansye(self, koule, mak, ane, mileyaj):\n",
    "        self.koule = koule\n",
    "        self.mak = mak\n",
    "        self.ane = ane\n",
    "        self.mileyaj = mileyaj"
   ]
  },
  {
   "cell_type": "markdown",
   "metadata": {},
   "source": [
    "### Manipile ak objè yo"
   ]
  },
  {
   "cell_type": "code",
   "execution_count": 15,
   "metadata": {},
   "outputs": [],
   "source": [
    "kamyonet = Machinn()"
   ]
  },
  {
   "cell_type": "code",
   "execution_count": 16,
   "metadata": {},
   "outputs": [],
   "source": [
    "kamyonet.enstansye('gri', 'isuzu', 1995, 150_000)"
   ]
  },
  {
   "cell_type": "code",
   "execution_count": 17,
   "metadata": {},
   "outputs": [
    {
     "data": {
      "text/plain": [
       "'isuzu'"
      ]
     },
     "execution_count": 17,
     "metadata": {},
     "output_type": "execute_result"
    }
   ],
   "source": [
    "kamyonet.mak"
   ]
  },
  {
   "cell_type": "code",
   "execution_count": 18,
   "metadata": {},
   "outputs": [
    {
     "data": {
      "text/plain": [
       "150000"
      ]
     },
     "execution_count": 18,
     "metadata": {},
     "output_type": "execute_result"
    }
   ],
   "source": [
    "kamyonet.mileyaj"
   ]
  },
  {
   "cell_type": "code",
   "execution_count": 19,
   "metadata": {},
   "outputs": [
    {
     "data": {
      "text/plain": [
       "'Machinn'"
      ]
     },
     "execution_count": 19,
     "metadata": {},
     "output_type": "execute_result"
    }
   ],
   "source": [
    "kamyonet.non_jenerik"
   ]
  },
  {
   "cell_type": "markdown",
   "metadata": {},
   "source": [
    "### Espas nomaj nan enstans ak nan klass"
   ]
  },
  {
   "cell_type": "code",
   "execution_count": 20,
   "metadata": {},
   "outputs": [
    {
     "data": {
      "text/plain": [
       "{'koule': 'gri', 'mak': 'isuzu', 'ane': 1995, 'mileyaj': 150000}"
      ]
     },
     "execution_count": 20,
     "metadata": {},
     "output_type": "execute_result"
    }
   ],
   "source": [
    "kamyonet.__dict__"
   ]
  },
  {
   "cell_type": "code",
   "execution_count": 21,
   "metadata": {},
   "outputs": [
    {
     "data": {
      "text/plain": [
       "{'koule': 'gri', 'mak': 'isuzu', 'ane': 1995, 'mileyaj': 150000}"
      ]
     },
     "execution_count": 21,
     "metadata": {},
     "output_type": "execute_result"
    }
   ],
   "source": [
    "vars(kamyonet)"
   ]
  },
  {
   "cell_type": "code",
   "execution_count": 24,
   "metadata": {},
   "outputs": [
    {
     "data": {
      "text/plain": [
       "{'koule': 'gri', 'mak': 'isuzu', 'ane': 1995, 'mileyaj': 150000}"
      ]
     },
     "execution_count": 24,
     "metadata": {},
     "output_type": "execute_result"
    }
   ],
   "source": [
    "vars(kamyonet)"
   ]
  },
  {
   "cell_type": "markdown",
   "metadata": {},
   "source": [
    "### Metod ki lye ak enstans"
   ]
  },
  {
   "cell_type": "code",
   "execution_count": 25,
   "metadata": {},
   "outputs": [
    {
     "data": {
      "text/plain": [
       "<bound method Machinn.enstansye of <__main__.Machinn object at 0x000001DFA0DDE100>>"
      ]
     },
     "execution_count": 25,
     "metadata": {},
     "output_type": "execute_result"
    }
   ],
   "source": [
    "kamyonet.enstansye"
   ]
  },
  {
   "cell_type": "markdown",
   "metadata": {},
   "source": [
    "### Metod espesyal"
   ]
  },
  {
   "cell_type": "code",
   "execution_count": 177,
   "metadata": {},
   "outputs": [],
   "source": [
    "class Machinn:\n",
    "    non_jenerik = \"Machinn\"\n",
    "    longe = 4\n",
    "    \n",
    "    def __init__(self, koule, mak, ane, mileyaj=None, longe=None, chay=None):\n",
    "        self.koule = koule\n",
    "        self.mak = mak\n",
    "        self.ane = ane\n",
    "        self.mileyaj = mileyaj\n",
    "        self.longe = longe\n",
    "        \n",
    "        self.kof = chay\n",
    "    \n",
    "    def __contains__(self, eleman):\n",
    "        return eleman in self.kof\n",
    "    \n",
    "    def __len__(self):\n",
    "        if self.longe:\n",
    "            return self.longe\n",
    "        return Machinn.longe"
   ]
  },
  {
   "cell_type": "code",
   "execution_count": 179,
   "metadata": {},
   "outputs": [],
   "source": [
    "taxi = Machinn('gri', 'toyota', 2002, 300000, None, ['valiz', 'panye', 'bwat_zouti'])"
   ]
  },
  {
   "cell_type": "code",
   "execution_count": 180,
   "metadata": {},
   "outputs": [
    {
     "data": {
      "text/plain": [
       "True"
      ]
     },
     "execution_count": 180,
     "metadata": {},
     "output_type": "execute_result"
    }
   ],
   "source": [
    "'bwat_zouti' in taxi"
   ]
  },
  {
   "cell_type": "code",
   "execution_count": 181,
   "metadata": {},
   "outputs": [
    {
     "data": {
      "text/plain": [
       "4"
      ]
     },
     "execution_count": 181,
     "metadata": {},
     "output_type": "execute_result"
    }
   ],
   "source": [
    "len(taxi)"
   ]
  },
  {
   "cell_type": "code",
   "execution_count": 187,
   "metadata": {},
   "outputs": [],
   "source": [
    "kamyon = Machinn('gri', 'Mack', 2012, 300000, 8) "
   ]
  },
  {
   "cell_type": "code",
   "execution_count": 188,
   "metadata": {},
   "outputs": [
    {
     "data": {
      "text/plain": [
       "8"
      ]
     },
     "execution_count": 188,
     "metadata": {},
     "output_type": "execute_result"
    }
   ],
   "source": [
    "len(kamyon)"
   ]
  },
  {
   "cell_type": "markdown",
   "metadata": {},
   "source": [
    "### Metòd klass"
   ]
  },
  {
   "cell_type": "code",
   "execution_count": 194,
   "metadata": {},
   "outputs": [],
   "source": [
    "from datetime import date\n",
    "\n",
    "class Machinn:\n",
    "    non_jenerik = \"Machinn\"\n",
    "    longe = 4\n",
    "    \n",
    "    def __init__(self, koule, mak, ane, mileyaj=None, longe=None, chay=None):\n",
    "        self.koule = koule\n",
    "        self.mak = mak\n",
    "        self.ane = ane\n",
    "        self.mileyaj = mileyaj\n",
    "        self.longe = longe\n",
    "        \n",
    "        self.kof = chay\n",
    "    \n",
    "    def __contains__(self, eleman):\n",
    "        return eleman in self.kof\n",
    "    \n",
    "    def __len__(self):\n",
    "        if self.longe:\n",
    "            return self.longe\n",
    "        return Machinn.longe\n",
    "    \n",
    "    @classmethod\n",
    "    def enstansye_apati_laj(cls, koule, mak, laj):\n",
    "        return cls(koule, mak, date.today().year - laj)\n",
    "    \n",
    "    @staticmethod\n",
    "    def laj(self):\n",
    "        return date.today().year - self.ane"
   ]
  },
  {
   "cell_type": "code",
   "execution_count": 151,
   "metadata": {},
   "outputs": [],
   "source": [
    "jeff_suzuki = Machinn.enstansye_apati_laj('gri', 'suzuki', 5)"
   ]
  },
  {
   "cell_type": "code",
   "execution_count": 152,
   "metadata": {},
   "outputs": [
    {
     "data": {
      "text/plain": [
       "{'koule': 'gri',\n",
       " 'mak': 'suzuki',\n",
       " 'ane': 2015,\n",
       " 'mileyaj': None,\n",
       " 'longe': None,\n",
       " 'kof': None}"
      ]
     },
     "execution_count": 152,
     "metadata": {},
     "output_type": "execute_result"
    }
   ],
   "source": [
    "jeff_suzuki.__dict__"
   ]
  },
  {
   "cell_type": "code",
   "execution_count": 157,
   "metadata": {},
   "outputs": [],
   "source": [
    "bis = Machinn('wouj', 'Hyundai', 2002, 300000, 7, [f\"valiz_{i+1}\" for i in range(10)])"
   ]
  },
  {
   "cell_type": "code",
   "execution_count": 158,
   "metadata": {},
   "outputs": [
    {
     "data": {
      "text/plain": [
       "{'koule': 'wouj',\n",
       " 'mak': 'Hyundai',\n",
       " 'ane': 2002,\n",
       " 'mileyaj': 300000,\n",
       " 'longe': 7,\n",
       " 'kof': ['valiz_1',\n",
       "  'valiz_2',\n",
       "  'valiz_3',\n",
       "  'valiz_4',\n",
       "  'valiz_5',\n",
       "  'valiz_6',\n",
       "  'valiz_7',\n",
       "  'valiz_8',\n",
       "  'valiz_9',\n",
       "  'valiz_10']}"
      ]
     },
     "execution_count": 158,
     "metadata": {},
     "output_type": "execute_result"
    }
   ],
   "source": [
    "bis.__dict__"
   ]
  },
  {
   "cell_type": "code",
   "execution_count": 162,
   "metadata": {},
   "outputs": [
    {
     "data": {
      "text/plain": [
       "18"
      ]
     },
     "execution_count": 162,
     "metadata": {},
     "output_type": "execute_result"
    }
   ],
   "source": [
    "bis.laj(bis)"
   ]
  },
  {
   "cell_type": "markdown",
   "metadata": {},
   "source": [
    "### Eritaj "
   ]
  },
  {
   "cell_type": "code",
   "execution_count": 215,
   "metadata": {},
   "outputs": [],
   "source": [
    "class Kamyon(Machinn):\n",
    "    non_jenerik = \"Kamyon\"\n",
    "    longe = 8\n",
    "    \n",
    "    def __init__(self, *args):\n",
    "        super().__init__(self, args)\n"
   ]
  },
  {
   "cell_type": "code",
   "execution_count": 208,
   "metadata": {},
   "outputs": [],
   "source": [
    "baskil = Machinn('gri', 'Mack', 2010, 50000, 7)"
   ]
  },
  {
   "cell_type": "code",
   "execution_count": 209,
   "metadata": {},
   "outputs": [
    {
     "data": {
      "text/plain": [
       "{'koule': 'gri',\n",
       " 'mak': 'Mack',\n",
       " 'ane': 2010,\n",
       " 'mileyaj': 50000,\n",
       " 'longe': 7,\n",
       " 'kof': None}"
      ]
     },
     "execution_count": 209,
     "metadata": {},
     "output_type": "execute_result"
    }
   ],
   "source": [
    "baskil.__dict__"
   ]
  },
  {
   "cell_type": "markdown",
   "metadata": {},
   "source": [
    "## Eritaj miltip"
   ]
  },
  {
   "cell_type": "code",
   "execution_count": 239,
   "metadata": {},
   "outputs": [],
   "source": [
    "class Machin:\n",
    "    non_jenerik = 'Machinn'\n",
    "    \n",
    "    def __init__(self, mak, ane):\n",
    "        self.mak = mak \n",
    "        self.ane = ane"
   ]
  },
  {
   "cell_type": "code",
   "execution_count": 238,
   "metadata": {},
   "outputs": [],
   "source": [
    "class MachinEletrik(Machin):\n",
    "    non_jenerik = 'Machin elektrik'\n",
    "    \n",
    "    def __init__(self, mak, ane, tip_batri, otonomi):\n",
    "        self.m\n",
    "        self.tip_batri = tip_batri \n",
    "        self.otonomi = otonomi"
   ]
  },
  {
   "cell_type": "code",
   "execution_count": 235,
   "metadata": {},
   "outputs": [],
   "source": [
    "class MachinAkGaz(Machin):\n",
    "      def __init__(self, mak, ane, tip_gaz):\n",
    "            "
   ]
  },
  {
   "cell_type": "code",
   "execution_count": 233,
   "metadata": {},
   "outputs": [
    {
     "ename": "TypeError",
     "evalue": "__init__() takes 1 positional argument but 9 were given",
     "output_type": "error",
     "traceback": [
      "\u001b[1;31m---------------------------------------------------------------------------\u001b[0m",
      "\u001b[1;31mTypeError\u001b[0m                                 Traceback (most recent call last)",
      "\u001b[1;32m<ipython-input-233-d447c033cb9e>\u001b[0m in \u001b[0;36m<module>\u001b[1;34m\u001b[0m\n\u001b[1;32m----> 1\u001b[1;33m \u001b[0maewomobil\u001b[0m \u001b[1;33m=\u001b[0m \u001b[0mMachinnAviyon\u001b[0m\u001b[1;33m(\u001b[0m\u001b[1;34m'gri'\u001b[0m\u001b[1;33m,\u001b[0m \u001b[1;34m'Aewomobil'\u001b[0m\u001b[1;33m,\u001b[0m \u001b[1;36m2019\u001b[0m\u001b[1;33m,\u001b[0m \u001b[1;32mNone\u001b[0m\u001b[1;33m,\u001b[0m \u001b[1;32mNone\u001b[0m\u001b[1;33m,\u001b[0m \u001b[1;32mNone\u001b[0m\u001b[1;33m,\u001b[0m \u001b[1;34m'elis'\u001b[0m\u001b[1;33m,\u001b[0m \u001b[1;36m1000\u001b[0m\u001b[1;33m)\u001b[0m\u001b[1;33m\u001b[0m\u001b[1;33m\u001b[0m\u001b[0m\n\u001b[0m\u001b[0;32m      2\u001b[0m \u001b[1;33m\u001b[0m\u001b[0m\n",
      "\u001b[1;31mTypeError\u001b[0m: __init__() takes 1 positional argument but 9 were given"
     ]
    }
   ],
   "source": [
    "\n",
    "        "
   ]
  },
  {
   "cell_type": "code",
   "execution_count": 230,
   "metadata": {},
   "outputs": [
    {
     "data": {
      "text/plain": [
       "{}"
      ]
     },
     "execution_count": 230,
     "metadata": {},
     "output_type": "execute_result"
    }
   ],
   "source": [
    "aewomobil.__dict__"
   ]
  },
  {
   "cell_type": "code",
   "execution_count": 128,
   "metadata": {},
   "outputs": [],
   "source": [
    "miyelda = Nwa('Miyelda Alcius', 'Dieuseul Alcius', 'Anaise Verbal')\n",
    "jimmy = Blan('Jimmy Carter', 'Jhonson Carter', 'Elizabeth Lingle')\n",
    "\n",
    "caroline = Metis('Caroline Carter', jimmy, miyelda)"
   ]
  },
  {
   "cell_type": "code",
   "execution_count": 129,
   "metadata": {},
   "outputs": [
    {
     "data": {
      "text/plain": [
       "Caroline Carter pitit Jimmy Carter ak Miyelda Alcius"
      ]
     },
     "execution_count": 129,
     "metadata": {},
     "output_type": "execute_result"
    }
   ],
   "source": [
    "caroline"
   ]
  },
  {
   "cell_type": "code",
   "execution_count": 130,
   "metadata": {},
   "outputs": [
    {
     "data": {
      "text/plain": [
       "Miyelda Alcius ki se pitit Dieuseul Alcius ak Anaise Verbal"
      ]
     },
     "execution_count": 130,
     "metadata": {},
     "output_type": "execute_result"
    }
   ],
   "source": [
    "miyelda"
   ]
  },
  {
   "cell_type": "code",
   "execution_count": 131,
   "metadata": {},
   "outputs": [
    {
     "data": {
      "text/plain": [
       "Jimmy Carter ki se pitit Jhonson Carter ak Elizabeth Lingle"
      ]
     },
     "execution_count": 131,
     "metadata": {},
     "output_type": "execute_result"
    }
   ],
   "source": [
    "jimmy"
   ]
  },
  {
   "cell_type": "code",
   "execution_count": 133,
   "metadata": {},
   "outputs": [
    {
     "data": {
      "text/plain": [
       "'nwa'"
      ]
     },
     "execution_count": 133,
     "metadata": {},
     "output_type": "execute_result"
    }
   ],
   "source": [
    "caroline.koule"
   ]
  },
  {
   "cell_type": "code",
   "execution_count": 134,
   "metadata": {},
   "outputs": [
    {
     "data": {
      "text/plain": [
       "True"
      ]
     },
     "execution_count": 134,
     "metadata": {},
     "output_type": "execute_result"
    }
   ],
   "source": [
    "isinstance(caroline, Nwa)"
   ]
  },
  {
   "cell_type": "code",
   "execution_count": 135,
   "metadata": {},
   "outputs": [
    {
     "data": {
      "text/plain": [
       "True"
      ]
     },
     "execution_count": 135,
     "metadata": {},
     "output_type": "execute_result"
    }
   ],
   "source": [
    "isinstance(caroline, Blan)"
   ]
  },
  {
   "cell_type": "markdown",
   "metadata": {},
   "source": [
    "## Iteratè"
   ]
  },
  {
   "cell_type": "markdown",
   "metadata": {},
   "source": [
    "Yon iteratè se yon "
   ]
  },
  {
   "cell_type": "code",
   "execution_count": 11,
   "metadata": {},
   "outputs": [],
   "source": [
    "class Fibonacci:\n",
    "    def __init__(self, max_iterasyon=10):\n",
    "        self.max_iterasyon = max_iterasyon\n",
    "        self.nonb_iterasyon = 0\n",
    "        self.f0 = 0\n",
    "        self.f1 = 1\n",
    "        self.fn = 0\n",
    "    \n",
    "    def __iter__(self):\n",
    "        return self\n",
    "    \n",
    "    def __next__(self):\n",
    "        \n",
    "        if self.nonb_iterasyon > self.max_iterasyon:\n",
    "            raise StopIteration\n",
    "            \n",
    "        if self.nonb_iterasyon == 0:\n",
    "            self.fn = self.f0\n",
    "        elif self.nonb_iterasyon == 1:\n",
    "            self.fn = self.f1\n",
    "        else:\n",
    "            self.fn = self.f1 + self.f0\n",
    "            self.f0, self.f1 = self.f1, self.fn\n",
    "        \n",
    "        self.nonb_iterasyon+=1\n",
    "        \n",
    "        return self.fn         "
   ]
  },
  {
   "cell_type": "code",
   "execution_count": 18,
   "metadata": {},
   "outputs": [],
   "source": [
    "fib_10 = Fibonacci()"
   ]
  },
  {
   "cell_type": "code",
   "execution_count": 19,
   "metadata": {},
   "outputs": [
    {
     "name": "stdout",
     "output_type": "stream",
     "text": [
      "0\n",
      "1\n",
      "1\n",
      "2\n",
      "3\n",
      "5\n",
      "8\n",
      "13\n",
      "21\n",
      "34\n",
      "55\n"
     ]
    }
   ],
   "source": [
    "for eleman in fib_10:\n",
    "    print(eleman)"
   ]
  },
  {
   "cell_type": "markdown",
   "metadata": {},
   "source": [
    "## Context Manager"
   ]
  },
  {
   "cell_type": "code",
   "execution_count": 54,
   "metadata": {},
   "outputs": [],
   "source": [
    "import time \n",
    "\n",
    "class Tan:\n",
    "    def __enter__(self):\n",
    "        self.komanse = time.time()\n",
    "        return self \n",
    "    \n",
    "    def __exit__(self, *args):\n",
    "        dire = time.time() - self.komanse \n",
    "        print(f\"pwogram nan dire {dire} segond\")\n",
    "        return False\n",
    "    \n",
    "    def __str__(self):\n",
    "        dire = time.time() - self.komanse \n",
    "        return f\"pwogram nan gen {dire} segond lap woule laaa\"\n",
    "        "
   ]
  },
  {
   "cell_type": "code",
   "execution_count": 55,
   "metadata": {},
   "outputs": [
    {
     "name": "stdout",
     "output_type": "stream",
     "text": [
      "pwogram nan gen 0.6129755973815918 segond lap woule laaa\n",
      "pwogram nan dire 3.073984384536743 segond\n"
     ]
    }
   ],
   "source": [
    "with Tan() as t:\n",
    "    sum(x for x in range(10_000_000))\n",
    "    print(t)\n",
    "    sum(x**2 for x in range(10_000_000))"
   ]
  },
  {
   "cell_type": "markdown",
   "metadata": {},
   "source": [
    "## Dekoratè"
   ]
  },
  {
   "cell_type": "code",
   "execution_count": 56,
   "metadata": {},
   "outputs": [],
   "source": [
    "class NonbRele:\n",
    "    def __init__(self, f):\n",
    "        self.nonb_rele = 0\n",
    "        self.f = f\n",
    "    def __call__(self, *t, **d):\n",
    "        self.nonb_rele += 1\n",
    "        s = f\"Fonksyon {self.f.__name__} rele {self.nonb_rele} fwa\"\n",
    "        print(s)\n",
    "        return self.f(*t, **d)"
   ]
  },
  {
   "cell_type": "code",
   "execution_count": 57,
   "metadata": {},
   "outputs": [],
   "source": [
    "@NonbRele\n",
    "def f(a, b):\n",
    "    print(a, b)"
   ]
  },
  {
   "cell_type": "code",
   "execution_count": 58,
   "metadata": {},
   "outputs": [
    {
     "name": "stdout",
     "output_type": "stream",
     "text": [
      "Fonksyon f rele 1 fwa\n",
      "2 5\n",
      "Fonksyon f rele 2 fwa\n",
      "j\"aime le riz oooooh!!!\n"
     ]
    }
   ],
   "source": [
    "f(2, 5)\n",
    "f('j\"aime le riz', 'oooooh!!!')"
   ]
  },
  {
   "cell_type": "markdown",
   "metadata": {},
   "source": [
    "## Pwòp Eksepsyon nou"
   ]
  },
  {
   "cell_type": "code",
   "execution_count": 60,
   "metadata": {},
   "outputs": [],
   "source": [
    "class DatPaseException(Exception):\n",
    "    pass"
   ]
  },
  {
   "cell_type": "code",
   "execution_count": 61,
   "metadata": {},
   "outputs": [],
   "source": [
    "from datetime import datetime as modiltan\n",
    "\n",
    "class Randevou:\n",
    "    def __init__(self, dat_randevou):\n",
    "        self.dat_randevou = dat_randevou\n",
    "        jodia = modiltan.now()\n",
    "        if self.dat_randevou < jodia:\n",
    "            raise DatPaseException"
   ]
  },
  {
   "cell_type": "code",
   "execution_count": 62,
   "metadata": {},
   "outputs": [
    {
     "ename": "DatPaseException",
     "evalue": "",
     "output_type": "error",
     "traceback": [
      "\u001b[1;31m---------------------------------------------------------------------------\u001b[0m",
      "\u001b[1;31mDatPaseException\u001b[0m                          Traceback (most recent call last)",
      "\u001b[1;32m<ipython-input-62-eeb0d5fc24d8>\u001b[0m in \u001b[0;36m<module>\u001b[1;34m\u001b[0m\n\u001b[0;32m      2\u001b[0m \u001b[0mdat_randevou\u001b[0m \u001b[1;33m=\u001b[0m \u001b[0mmodiltan\u001b[0m\u001b[1;33m(\u001b[0m\u001b[1;36m2010\u001b[0m\u001b[1;33m,\u001b[0m \u001b[1;36m5\u001b[0m\u001b[1;33m,\u001b[0m \u001b[1;36m17\u001b[0m\u001b[1;33m)\u001b[0m\u001b[1;33m\u001b[0m\u001b[1;33m\u001b[0m\u001b[0m\n\u001b[0;32m      3\u001b[0m \u001b[1;33m\u001b[0m\u001b[0m\n\u001b[1;32m----> 4\u001b[1;33m \u001b[0mrandevou_kase\u001b[0m \u001b[1;33m=\u001b[0m \u001b[0mRandevou\u001b[0m\u001b[1;33m(\u001b[0m\u001b[0mdat_randevou\u001b[0m\u001b[1;33m)\u001b[0m\u001b[1;33m\u001b[0m\u001b[1;33m\u001b[0m\u001b[0m\n\u001b[0m",
      "\u001b[1;32m<ipython-input-61-9acf0f9decd5>\u001b[0m in \u001b[0;36m__init__\u001b[1;34m(self, dat_randevou)\u001b[0m\n\u001b[0;32m      6\u001b[0m         \u001b[0mjodia\u001b[0m \u001b[1;33m=\u001b[0m \u001b[0mmodiltan\u001b[0m\u001b[1;33m.\u001b[0m\u001b[0mnow\u001b[0m\u001b[1;33m(\u001b[0m\u001b[1;33m)\u001b[0m\u001b[1;33m\u001b[0m\u001b[1;33m\u001b[0m\u001b[0m\n\u001b[0;32m      7\u001b[0m         \u001b[1;32mif\u001b[0m \u001b[0mself\u001b[0m\u001b[1;33m.\u001b[0m\u001b[0mdat_randevou\u001b[0m \u001b[1;33m<\u001b[0m \u001b[0mjodia\u001b[0m\u001b[1;33m:\u001b[0m\u001b[1;33m\u001b[0m\u001b[1;33m\u001b[0m\u001b[0m\n\u001b[1;32m----> 8\u001b[1;33m             \u001b[1;32mraise\u001b[0m \u001b[0mDatPaseException\u001b[0m\u001b[1;33m\u001b[0m\u001b[1;33m\u001b[0m\u001b[0m\n\u001b[0m",
      "\u001b[1;31mDatPaseException\u001b[0m: "
     ]
    }
   ],
   "source": [
    "# dat randevou ki fikse nan pase\n",
    "dat_randevou = modiltan(2010, 5, 17) \n",
    "\n",
    "randevou_kase = Randevou(dat_randevou)"
   ]
  },
  {
   "cell_type": "code",
   "execution_count": null,
   "metadata": {},
   "outputs": [],
   "source": []
  }
 ],
 "metadata": {
  "kernelspec": {
   "display_name": "Python 3",
   "language": "python",
   "name": "python3"
  },
  "language_info": {
   "codemirror_mode": {
    "name": "ipython",
    "version": 3
   },
   "file_extension": ".py",
   "mimetype": "text/x-python",
   "name": "python",
   "nbconvert_exporter": "python",
   "pygments_lexer": "ipython3",
   "version": "3.8.6"
  }
 },
 "nbformat": 4,
 "nbformat_minor": 4
}
