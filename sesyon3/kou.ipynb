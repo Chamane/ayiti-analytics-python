{
 "cells": [
  {
   "cell_type": "markdown",
   "metadata": {},
   "source": [
    "# Oryante Objè nan Python"
   ]
  },
  {
   "cell_type": "markdown",
   "metadata": {},
   "source": [
    "### Deklarasyon yon klass nan python"
   ]
  },
  {
   "cell_type": "code",
   "execution_count": null,
   "metadata": {},
   "outputs": [],
   "source": [
    "class ManbFakilte:\n",
    "    def __init__(self, non, ane_nesans, seks):\n",
    "        self.non = non\n",
    "        self.ane_nesans = ane_nesans\n",
    "        self.seks = seks"
   ]
  },
  {
   "cell_type": "markdown",
   "metadata": {},
   "source": [
    "### Deklarasyon yon enstans"
   ]
  },
  {
   "cell_type": "code",
   "execution_count": null,
   "metadata": {},
   "outputs": [],
   "source": [
    "abodjo = ManbFakilte(\"Abodjo Joseph\", 1995, 'Mal')"
   ]
  },
  {
   "cell_type": "markdown",
   "metadata": {},
   "source": [
    "### Espas nomaj nan enstans ak nan klass"
   ]
  },
  {
   "cell_type": "code",
   "execution_count": null,
   "metadata": {},
   "outputs": [],
   "source": [
    "ManbFakilte.__dict__"
   ]
  },
  {
   "cell_type": "code",
   "execution_count": null,
   "metadata": {},
   "outputs": [],
   "source": [
    "vars(ManbFakilte)"
   ]
  },
  {
   "cell_type": "code",
   "execution_count": null,
   "metadata": {},
   "outputs": [],
   "source": [
    "abodjo.__dict__"
   ]
  },
  {
   "cell_type": "code",
   "execution_count": null,
   "metadata": {},
   "outputs": [],
   "source": [
    "vars(abodjo)"
   ]
  },
  {
   "cell_type": "markdown",
   "metadata": {},
   "source": [
    "## Definisyon metòd sou objè yo"
   ]
  },
  {
   "cell_type": "code",
   "execution_count": 1,
   "metadata": {},
   "outputs": [],
   "source": [
    "class ManbFakilte:\n",
    "    def __init__(self, non, ane_nesans, seks):\n",
    "        self.non = non\n",
    "        self.ane_nesans = ane_nesans\n",
    "        self.seks = seks\n",
    "    \n",
    "    def pale(self, pawol):\n",
    "        return f\"{self.non} di: {pawol}\"\n",
    "    "
   ]
  },
  {
   "cell_type": "code",
   "execution_count": 2,
   "metadata": {},
   "outputs": [],
   "source": [
    "abodjo = ManbFakilte(\"Abodjo Joseph\", 1995, \"Mal\")"
   ]
  },
  {
   "cell_type": "markdown",
   "metadata": {},
   "source": [
    "### Metod ki lye ak enstans"
   ]
  },
  {
   "cell_type": "code",
   "execution_count": 3,
   "metadata": {},
   "outputs": [
    {
     "data": {
      "text/plain": [
       "<function __main__.ManbFakilte.pale(self, pawol)>"
      ]
     },
     "execution_count": 3,
     "metadata": {},
     "output_type": "execute_result"
    }
   ],
   "source": [
    "ManbFakilte.pale"
   ]
  },
  {
   "cell_type": "code",
   "execution_count": 4,
   "metadata": {},
   "outputs": [
    {
     "data": {
      "text/plain": [
       "<bound method ManbFakilte.pale of <__main__.ManbFakilte object at 0x0000023031BA7730>>"
      ]
     },
     "execution_count": 4,
     "metadata": {},
     "output_type": "execute_result"
    }
   ],
   "source": [
    "abodjo.pale"
   ]
  },
  {
   "cell_type": "markdown",
   "metadata": {},
   "source": [
    "2 fason pou rele metod sou yon enstans"
   ]
  },
  {
   "cell_type": "code",
   "execution_count": 5,
   "metadata": {},
   "outputs": [
    {
     "data": {
      "text/plain": [
       "'Abodjo Joseph di: Matematik bèl anpil'"
      ]
     },
     "execution_count": 5,
     "metadata": {},
     "output_type": "execute_result"
    }
   ],
   "source": [
    "abodjo.pale(\"Matematik bèl anpil\")"
   ]
  },
  {
   "cell_type": "code",
   "execution_count": 6,
   "metadata": {},
   "outputs": [
    {
     "data": {
      "text/plain": [
       "'Abodjo Joseph di: Matematik bèl anpil'"
      ]
     },
     "execution_count": 6,
     "metadata": {},
     "output_type": "execute_result"
    }
   ],
   "source": [
    "ManbFakilte.pale(abodjo, \"Matematik bèl anpil\")"
   ]
  },
  {
   "cell_type": "markdown",
   "metadata": {},
   "source": [
    "## Metod klass"
   ]
  },
  {
   "cell_type": "code",
   "execution_count": 22,
   "metadata": {},
   "outputs": [],
   "source": [
    "from datetime import date \n",
    "\n",
    "class ManbFakilte:\n",
    "    def __init__(self, non, ane_nesans, seks):\n",
    "        self.non = non\n",
    "        self.ane_nesans = ane_nesans\n",
    "        self.seks = seks\n",
    "    \n",
    "    def pale(self, pawol):\n",
    "        return f\"{self.non} di: {pawol}\"\n",
    "    \n",
    "    @classmethod\n",
    "    def kreyeApatiLaj(cls, non, laj, seks):\n",
    "        return cls(non, date.today().year - laj, seks)\n"
   ]
  },
  {
   "cell_type": "code",
   "execution_count": 23,
   "metadata": {},
   "outputs": [],
   "source": [
    "andre = ManbFakilte.kreyeApatiLaj(\"Andre Pierre\", 25, \"Mal\")"
   ]
  },
  {
   "cell_type": "code",
   "execution_count": 25,
   "metadata": {},
   "outputs": [
    {
     "data": {
      "text/plain": [
       "{'non': 'Andre Pierre', 'ane_nesans': 1995, 'seks': 'Mal'}"
      ]
     },
     "execution_count": 25,
     "metadata": {},
     "output_type": "execute_result"
    }
   ],
   "source": [
    "vars(andre)"
   ]
  },
  {
   "cell_type": "markdown",
   "metadata": {},
   "source": [
    "### Metòd espesyal"
   ]
  },
  {
   "cell_type": "code",
   "execution_count": 7,
   "metadata": {},
   "outputs": [],
   "source": [
    "class Depo:\n",
    "    def __init__(self, non, *args):\n",
    "        self.non = non\n",
    "        self.machandiz = []\n",
    "        if args:\n",
    "            self.machandiz = args\n",
    "    \n",
    "    def __contains__(self, eleman):\n",
    "        return eleman in self.machandiz\n",
    "    \n",
    "    def __len__(self):\n",
    "        return len(self.machandiz)\n",
    "    \n",
    "    def __str__(self):\n",
    "        return self.non\n",
    "    \n",
    "    def __repr__(self):\n",
    "        return self.non"
   ]
  },
  {
   "cell_type": "code",
   "execution_count": 8,
   "metadata": {},
   "outputs": [],
   "source": [
    "ritaDepo = Depo('Rita Jèvilyen', 'lwil', 'diri', 'lèt', 'pwa', 'manyok')"
   ]
  },
  {
   "cell_type": "code",
   "execution_count": 9,
   "metadata": {},
   "outputs": [
    {
     "data": {
      "text/plain": [
       "True"
      ]
     },
     "execution_count": 9,
     "metadata": {},
     "output_type": "execute_result"
    }
   ],
   "source": [
    "'lwil' in ritaDepo"
   ]
  },
  {
   "cell_type": "code",
   "execution_count": 10,
   "metadata": {},
   "outputs": [
    {
     "data": {
      "text/plain": [
       "5"
      ]
     },
     "execution_count": 10,
     "metadata": {},
     "output_type": "execute_result"
    }
   ],
   "source": [
    "len(ritaDepo)"
   ]
  },
  {
   "cell_type": "code",
   "execution_count": 11,
   "metadata": {},
   "outputs": [
    {
     "data": {
      "text/plain": [
       "Rita Jèvilyen"
      ]
     },
     "execution_count": 11,
     "metadata": {},
     "output_type": "execute_result"
    }
   ],
   "source": [
    "ritaDepo"
   ]
  },
  {
   "cell_type": "markdown",
   "metadata": {},
   "source": [
    "### Eritaj ak Konpozisyon"
   ]
  },
  {
   "cell_type": "code",
   "execution_count": 12,
   "metadata": {},
   "outputs": [],
   "source": [
    "class Etidyan(ManbFakilte):\n",
    "    def __init__(self, non, ane_nesans, seks, domen=('preparatwa', 2)):\n",
    "        super().__init__(non, ane_nesans, seks)\n",
    "        self.domen_non, self.domen_ane = domen "
   ]
  },
  {
   "cell_type": "code",
   "execution_count": 13,
   "metadata": {},
   "outputs": [],
   "source": [
    "dimitri = Etidyan(\"Dimitri Pierre\", 2000, 'Mal')\n",
    "fabrice = Etidyan(\"Fabrice Orisme\", 1993, 'Mal')\n",
    "caroline = Etidyan(\"Caroline Chauvin\", 1990, \"Femel\")"
   ]
  },
  {
   "cell_type": "code",
   "execution_count": 71,
   "metadata": {},
   "outputs": [],
   "source": [
    "class BelEkip:\n",
    "    def __init__(self, non, *etidyan):\n",
    "        self.non = non\n",
    "        self.manb = etidyan \n",
    "    def __repr__(self):\n",
    "        manb = (etidyan.non for etidyan in self.manb)\n",
    "        return \"{}: {}\".format(self.non, \", \".join(manb))"
   ]
  },
  {
   "cell_type": "code",
   "execution_count": 72,
   "metadata": {},
   "outputs": [],
   "source": [
    "ekip_fds = BelEkip('Bel ekip', dimitri, fabrice, caroline)"
   ]
  },
  {
   "cell_type": "code",
   "execution_count": 73,
   "metadata": {},
   "outputs": [
    {
     "data": {
      "text/plain": [
       "Bel ekip: Dimitri Pierre, Fabrice Orisme, Caroline Chauvin"
      ]
     },
     "execution_count": 73,
     "metadata": {},
     "output_type": "execute_result"
    }
   ],
   "source": [
    "ekip_fds"
   ]
  },
  {
   "cell_type": "markdown",
   "metadata": {},
   "source": [
    "### Plizyè nivo nan eritaj metod yo\n"
   ]
  },
  {
   "cell_type": "code",
   "execution_count": null,
   "metadata": {},
   "outputs": [],
   "source": []
  },
  {
   "cell_type": "markdown",
   "metadata": {},
   "source": [
    "## Eritaj miltip"
   ]
  },
  {
   "cell_type": "code",
   "execution_count": 124,
   "metadata": {},
   "outputs": [],
   "source": [
    "class Mounn:\n",
    "    def __init__(self, non, papa, manman):\n",
    "        self.papa = papa\n",
    "        self.manman = manman\n",
    "        self.non = non\n",
    "    \n",
    "    def __repr__(self):\n",
    "        return f\"{self.non} ki se pitit {self.papa} ak {self.manman}\" "
   ]
  },
  {
   "cell_type": "code",
   "execution_count": 125,
   "metadata": {},
   "outputs": [],
   "source": [
    "class Nwa(Mounn):\n",
    "    koule = 'nwa'\n",
    "    def __init__(self, non, papa, manman):\n",
    "        super().__init__(non, papa, manman)\n",
    "        "
   ]
  },
  {
   "cell_type": "code",
   "execution_count": 126,
   "metadata": {},
   "outputs": [],
   "source": [
    "class Blan(Mounn):\n",
    "    koule='blan'\n",
    "    def __init__(self, non, papa, manman):\n",
    "        super().__init__(non, papa, manman)\n",
    "        "
   ]
  },
  {
   "cell_type": "code",
   "execution_count": 132,
   "metadata": {},
   "outputs": [],
   "source": [
    "class Metis(Nwa, Blan):\n",
    "    def __init__(self, non, papa, manman):\n",
    "        super().__init__(non, papa, manman)\n",
    "        \n",
    "    def __repr__(self):\n",
    "        return f\"{self.non} pitit {self.papa.non} ak {self.manman.non}\" "
   ]
  },
  {
   "cell_type": "code",
   "execution_count": 128,
   "metadata": {},
   "outputs": [],
   "source": [
    "miyelda = Nwa('Miyelda Alcius', 'Dieuseul Alcius', 'Anaise Verbal')\n",
    "jimmy = Blan('Jimmy Carter', 'Jhonson Carter', 'Elizabeth Lingle')\n",
    "\n",
    "caroline = Metis('Caroline Carter', jimmy, miyelda)"
   ]
  },
  {
   "cell_type": "code",
   "execution_count": 129,
   "metadata": {},
   "outputs": [
    {
     "data": {
      "text/plain": [
       "Caroline Carter pitit Jimmy Carter ak Miyelda Alcius"
      ]
     },
     "execution_count": 129,
     "metadata": {},
     "output_type": "execute_result"
    }
   ],
   "source": [
    "caroline"
   ]
  },
  {
   "cell_type": "code",
   "execution_count": 130,
   "metadata": {},
   "outputs": [
    {
     "data": {
      "text/plain": [
       "Miyelda Alcius ki se pitit Dieuseul Alcius ak Anaise Verbal"
      ]
     },
     "execution_count": 130,
     "metadata": {},
     "output_type": "execute_result"
    }
   ],
   "source": [
    "miyelda"
   ]
  },
  {
   "cell_type": "code",
   "execution_count": 131,
   "metadata": {},
   "outputs": [
    {
     "data": {
      "text/plain": [
       "Jimmy Carter ki se pitit Jhonson Carter ak Elizabeth Lingle"
      ]
     },
     "execution_count": 131,
     "metadata": {},
     "output_type": "execute_result"
    }
   ],
   "source": [
    "jimmy"
   ]
  },
  {
   "cell_type": "code",
   "execution_count": 133,
   "metadata": {},
   "outputs": [
    {
     "data": {
      "text/plain": [
       "'nwa'"
      ]
     },
     "execution_count": 133,
     "metadata": {},
     "output_type": "execute_result"
    }
   ],
   "source": [
    "caroline.koule"
   ]
  },
  {
   "cell_type": "code",
   "execution_count": 134,
   "metadata": {},
   "outputs": [
    {
     "data": {
      "text/plain": [
       "True"
      ]
     },
     "execution_count": 134,
     "metadata": {},
     "output_type": "execute_result"
    }
   ],
   "source": [
    "isinstance(caroline, Nwa)"
   ]
  },
  {
   "cell_type": "code",
   "execution_count": 135,
   "metadata": {},
   "outputs": [
    {
     "data": {
      "text/plain": [
       "True"
      ]
     },
     "execution_count": 135,
     "metadata": {},
     "output_type": "execute_result"
    }
   ],
   "source": [
    "isinstance(caroline, Blan)"
   ]
  },
  {
   "cell_type": "markdown",
   "metadata": {},
   "source": [
    "## Iteratè"
   ]
  },
  {
   "cell_type": "markdown",
   "metadata": {},
   "source": [
    "Yon iteratè se yon "
   ]
  }
 ],
 "metadata": {
  "kernelspec": {
   "display_name": "Python 3",
   "language": "python",
   "name": "python3"
  },
  "language_info": {
   "codemirror_mode": {
    "name": "ipython",
    "version": 3
   },
   "file_extension": ".py",
   "mimetype": "text/x-python",
   "name": "python",
   "nbconvert_exporter": "python",
   "pygments_lexer": "ipython3",
   "version": "3.8.6"
  }
 },
 "nbformat": 4,
 "nbformat_minor": 4
}
