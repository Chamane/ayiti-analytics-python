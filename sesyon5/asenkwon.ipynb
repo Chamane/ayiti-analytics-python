{
 "cells": [
  {
   "cell_type": "markdown",
   "metadata": {},
   "source": [
    "# Pwogramasyon asenkwòn ak Python"
   ]
  },
  {
   "cell_type": "markdown",
   "metadata": {},
   "source": [
    "## Yon egzanp senkwòn: Sèvez kap fè nou pèdi tan"
   ]
  },
  {
   "cell_type": "code",
   "execution_count": 1,
   "metadata": {},
   "outputs": [],
   "source": [
    "import time\n",
    "\n",
    "### ansanb tach \n",
    "\n",
    "def prepare_ji(non_ji):\n",
    "    print(\"Mande pou engredyan yo nan kwizin lan\")\n",
    "    time.sleep(3) # yo pran yon ti tan pou yo bay yo\n",
    "    \n",
    "    print(\"aktive blendè a\")\n",
    "    time.sleep(10) # ji a pran yon tan poul fèt\n",
    "\n",
    "    print(f\"********{non_ji} ou a pre\")\n",
    "\n",
    "\n",
    "def prepare_manje(non_manje):\n",
    "    print(\"Mete manje a kwit\")\n",
    "    time.sleep(10)\n",
    "    \n",
    "    print(\"prepare pla a\")\n",
    "    time.sleep(5)\n",
    "    \n",
    "    print(f\"********{non_manje} a pre\")"
   ]
  },
  {
   "cell_type": "code",
   "execution_count": 2,
   "metadata": {},
   "outputs": [
    {
     "name": "stdout",
     "output_type": "stream",
     "text": [
      "Kliyan an tann 0.0\n"
     ]
    }
   ],
   "source": [
    "import time\n",
    "\n",
    "# sevez la pran komand lan\n",
    "# li al prepare bagay\n",
    "# li prepare yo younn apre lot\n",
    "\n",
    "komanse = time.time()\n",
    "\n",
    "#prepare_ji(\"papay\")\n",
    "#prepare_manje(\"diri_ak_pwa\")\n",
    "\n",
    "dire = time.time() - komanse\n",
    "print(f\"Kliyan an tann {dire}\")"
   ]
  },
  {
   "cell_type": "markdown",
   "metadata": {},
   "source": [
    "## Yon lot fason sèvez la te kapab fè pou nou tann mwens"
   ]
  },
  {
   "cell_type": "code",
   "execution_count": 3,
   "metadata": {},
   "outputs": [],
   "source": [
    "import asyncio \n",
    "\n",
    "import time\n",
    "\n",
    "### ansanb tach \n",
    "\n",
    "async def _prepare_ji(non_ji):\n",
    "    print(\"Mande pou engredyan yo nan kwizin lan pou ji a\")\n",
    "    await asyncio.sleep(3) # yo pran yon ti tan pou yo bay yo\n",
    "    \n",
    "    print(\"aktive blendè a\")\n",
    "    await asyncio.sleep(10) # ji a pran yon tan poul fèt\n",
    "\n",
    "    return f\"********{non_ji} ou a pre\"\n",
    "\n",
    "\n",
    "async def _prepare_manje(non_manje):\n",
    "    print(\"Mete manje a kwit\")\n",
    "    await asyncio.sleep(10)\n",
    "    \n",
    "    print(\"prepare pla a\")\n",
    "    await asyncio.sleep(5)\n",
    "    \n",
    "    return f\"********{non_manje} a pre\""
   ]
  },
  {
   "cell_type": "code",
   "execution_count": 4,
   "metadata": {},
   "outputs": [
    {
     "ename": "RuntimeError",
     "evalue": "This event loop is already running",
     "output_type": "error",
     "traceback": [
      "\u001b[1;31m---------------------------------------------------------------------------\u001b[0m",
      "\u001b[1;31mRuntimeError\u001b[0m                              Traceback (most recent call last)",
      "\u001b[1;32m<ipython-input-4-fa8379508730>\u001b[0m in \u001b[0;36m<module>\u001b[1;34m\u001b[0m\n\u001b[0;32m      8\u001b[0m \u001b[1;33m\u001b[0m\u001b[0m\n\u001b[0;32m      9\u001b[0m \u001b[0mloop\u001b[0m \u001b[1;33m=\u001b[0m \u001b[0masyncio\u001b[0m\u001b[1;33m.\u001b[0m\u001b[0mget_event_loop\u001b[0m\u001b[1;33m(\u001b[0m\u001b[1;33m)\u001b[0m\u001b[1;33m\u001b[0m\u001b[1;33m\u001b[0m\u001b[0m\n\u001b[1;32m---> 10\u001b[1;33m loop.run_until_complete(\n\u001b[0m\u001b[0;32m     11\u001b[0m     asyncio.gather(_prepare_ji(\"papay\"),\n\u001b[0;32m     12\u001b[0m                   _prepare_manje(\"diri ak pwa\"))\n",
      "\u001b[1;32mc:\\users\\maxence servius\\appdata\\local\\programs\\python\\python38\\lib\\asyncio\\base_events.py\u001b[0m in \u001b[0;36mrun_until_complete\u001b[1;34m(self, future)\u001b[0m\n\u001b[0;32m    590\u001b[0m         \"\"\"\n\u001b[0;32m    591\u001b[0m         \u001b[0mself\u001b[0m\u001b[1;33m.\u001b[0m\u001b[0m_check_closed\u001b[0m\u001b[1;33m(\u001b[0m\u001b[1;33m)\u001b[0m\u001b[1;33m\u001b[0m\u001b[1;33m\u001b[0m\u001b[0m\n\u001b[1;32m--> 592\u001b[1;33m         \u001b[0mself\u001b[0m\u001b[1;33m.\u001b[0m\u001b[0m_check_running\u001b[0m\u001b[1;33m(\u001b[0m\u001b[1;33m)\u001b[0m\u001b[1;33m\u001b[0m\u001b[1;33m\u001b[0m\u001b[0m\n\u001b[0m\u001b[0;32m    593\u001b[0m \u001b[1;33m\u001b[0m\u001b[0m\n\u001b[0;32m    594\u001b[0m         \u001b[0mnew_task\u001b[0m \u001b[1;33m=\u001b[0m \u001b[1;32mnot\u001b[0m \u001b[0mfutures\u001b[0m\u001b[1;33m.\u001b[0m\u001b[0misfuture\u001b[0m\u001b[1;33m(\u001b[0m\u001b[0mfuture\u001b[0m\u001b[1;33m)\u001b[0m\u001b[1;33m\u001b[0m\u001b[1;33m\u001b[0m\u001b[0m\n",
      "\u001b[1;32mc:\\users\\maxence servius\\appdata\\local\\programs\\python\\python38\\lib\\asyncio\\base_events.py\u001b[0m in \u001b[0;36m_check_running\u001b[1;34m(self)\u001b[0m\n\u001b[0;32m    550\u001b[0m     \u001b[1;32mdef\u001b[0m \u001b[0m_check_running\u001b[0m\u001b[1;33m(\u001b[0m\u001b[0mself\u001b[0m\u001b[1;33m)\u001b[0m\u001b[1;33m:\u001b[0m\u001b[1;33m\u001b[0m\u001b[1;33m\u001b[0m\u001b[0m\n\u001b[0;32m    551\u001b[0m         \u001b[1;32mif\u001b[0m \u001b[0mself\u001b[0m\u001b[1;33m.\u001b[0m\u001b[0mis_running\u001b[0m\u001b[1;33m(\u001b[0m\u001b[1;33m)\u001b[0m\u001b[1;33m:\u001b[0m\u001b[1;33m\u001b[0m\u001b[1;33m\u001b[0m\u001b[0m\n\u001b[1;32m--> 552\u001b[1;33m             \u001b[1;32mraise\u001b[0m \u001b[0mRuntimeError\u001b[0m\u001b[1;33m(\u001b[0m\u001b[1;34m'This event loop is already running'\u001b[0m\u001b[1;33m)\u001b[0m\u001b[1;33m\u001b[0m\u001b[1;33m\u001b[0m\u001b[0m\n\u001b[0m\u001b[0;32m    553\u001b[0m         \u001b[1;32mif\u001b[0m \u001b[0mevents\u001b[0m\u001b[1;33m.\u001b[0m\u001b[0m_get_running_loop\u001b[0m\u001b[1;33m(\u001b[0m\u001b[1;33m)\u001b[0m \u001b[1;32mis\u001b[0m \u001b[1;32mnot\u001b[0m \u001b[1;32mNone\u001b[0m\u001b[1;33m:\u001b[0m\u001b[1;33m\u001b[0m\u001b[1;33m\u001b[0m\u001b[0m\n\u001b[0;32m    554\u001b[0m             raise RuntimeError(\n",
      "\u001b[1;31mRuntimeError\u001b[0m: This event loop is already running"
     ]
    },
    {
     "name": "stdout",
     "output_type": "stream",
     "text": [
      "Mande pou engredyan yo nan kwizin lan pou ji a\n",
      "Mete manje a kwit\n",
      "aktive blendè a\n",
      "prepare pla a\n"
     ]
    }
   ],
   "source": [
    "import time\n",
    "\n",
    "# sevez la pran komand lan\n",
    "# li al prepare bagay\n",
    "# li prepare yo younn apre lot\n",
    "\n",
    "komanse = time.time()\n",
    "\n",
    "loop = asyncio.get_event_loop()\n",
    "loop.run_until_complete(\n",
    "    asyncio.gather(_prepare_ji(\"papay\"),\n",
    "                  _prepare_manje(\"diri ak pwa\"))\n",
    ")\n",
    "\n",
    "dire = time.time() - komanse\n",
    "    \n",
    "print(f\"Kliyan an tann {dire}\")"
   ]
  },
  {
   "cell_type": "code",
   "execution_count": null,
   "metadata": {},
   "outputs": [],
   "source": []
  },
  {
   "cell_type": "code",
   "execution_count": null,
   "metadata": {},
   "outputs": [],
   "source": []
  }
 ],
 "metadata": {
  "kernelspec": {
   "display_name": "Python 3",
   "language": "python",
   "name": "python3"
  },
  "language_info": {
   "codemirror_mode": {
    "name": "ipython",
    "version": 3
   },
   "file_extension": ".py",
   "mimetype": "text/x-python",
   "name": "python",
   "nbconvert_exporter": "python",
   "pygments_lexer": "ipython3",
   "version": "3.8.6"
  }
 },
 "nbformat": 4,
 "nbformat_minor": 4
}
