{
 "cells": [
  {
   "cell_type": "markdown",
   "metadata": {},
   "source": [
    "# Pwogramasyon asenkwòn ak Python"
   ]
  },
  {
   "cell_type": "markdown",
   "metadata": {},
   "source": [
    "### Yon egzanp kowoutin"
   ]
  },
  {
   "cell_type": "code",
   "execution_count": 1,
   "metadata": {},
   "outputs": [],
   "source": [
    "def prepare_bwason():\n",
    "    print(\"Mande gode yo ak lot veso yo nan kwizin lan\")\n",
    "    yield\n",
    "    print(\"Komanse prepare engredyan yo pou ji a\")\n",
    "    yield\n",
    "    print(\"Mande pou yo pote suk pou nou\")"
   ]
  },
  {
   "cell_type": "code",
   "execution_count": 2,
   "metadata": {},
   "outputs": [
    {
     "data": {
      "text/plain": [
       "<generator object prepare_bwason at 0x7ff50c3a60b0>"
      ]
     },
     "execution_count": 2,
     "metadata": {},
     "output_type": "execute_result"
    }
   ],
   "source": [
    "prepare_bwason()"
   ]
  },
  {
   "cell_type": "code",
   "execution_count": 3,
   "metadata": {},
   "outputs": [],
   "source": [
    "task = prepare_bwason()"
   ]
  },
  {
   "cell_type": "code",
   "execution_count": 4,
   "metadata": {},
   "outputs": [],
   "source": [
    "class Loop:\n",
    "    def create_task(self, kowoutin):\n",
    "        return kowoutin()\n",
    "    \n",
    "    def run_until_complete(self, task):\n",
    "        while True:\n",
    "            try:\n",
    "                next(task)\n",
    "            except StopIteration:\n",
    "                break"
   ]
  },
  {
   "cell_type": "code",
   "execution_count": 5,
   "metadata": {},
   "outputs": [],
   "source": [
    "loop = Loop()"
   ]
  },
  {
   "cell_type": "code",
   "execution_count": 6,
   "metadata": {},
   "outputs": [],
   "source": [
    "task = loop.create_task(prepare_bwason)"
   ]
  },
  {
   "cell_type": "code",
   "execution_count": 7,
   "metadata": {},
   "outputs": [
    {
     "name": "stdout",
     "output_type": "stream",
     "text": [
      "Mande gode yo ak lot veso yo nan kwizin lan\n",
      "Komanse prepare engredyan yo pou ji a\n",
      "Mande pou yo pote suk pou nou\n"
     ]
    }
   ],
   "source": [
    "loop.run_until_complete(task)"
   ]
  },
  {
   "cell_type": "code",
   "execution_count": 8,
   "metadata": {},
   "outputs": [],
   "source": [
    "import time"
   ]
  },
  {
   "cell_type": "code",
   "execution_count": 9,
   "metadata": {},
   "outputs": [],
   "source": [
    "def sleep_until(t):\n",
    "    while time.time() < t:\n",
    "        yield "
   ]
  },
  {
   "cell_type": "code",
   "execution_count": 10,
   "metadata": {},
   "outputs": [],
   "source": [
    "def sleep_duration(duration):\n",
    "    yield from sleep_until(time.time() + duration)"
   ]
  },
  {
   "cell_type": "code",
   "execution_count": 11,
   "metadata": {},
   "outputs": [],
   "source": [
    "def prepare_manje():\n",
    "    print(\"Mande engredyan pou manje a nan kwizin nan\")\n",
    "    yield from sleep_duration(5)\n",
    "    print(\"Komanse lave veson yo pou manje a\")\n",
    "    yield from sleep_duration(3)\n",
    "    print(\"Voye achte lwil\")"
   ]
  },
  {
   "cell_type": "code",
   "execution_count": 12,
   "metadata": {},
   "outputs": [],
   "source": [
    "def prepare_bwason():\n",
    "    print(\"Mande gode yo\")\n",
    "    yield from sleep_duration(5)\n",
    "    print(\"Komanse prepare engredyan yo pou ji a\")\n",
    "    yield from sleep_duration(2)\n",
    "    print(\"Mande pou yo pote suk pou nou\")   "
   ]
  },
  {
   "cell_type": "code",
   "execution_count": 13,
   "metadata": {},
   "outputs": [],
   "source": [
    "class Loop:\n",
    "    def __init__(self):\n",
    "        self.tasks = []\n",
    "    \n",
    "    def add_task(self, *tasks):\n",
    "        for task in tasks:\n",
    "            self.tasks.append(task)\n",
    "        \n",
    "    def run(self):\n",
    "        while self.tasks:\n",
    "            task = self.tasks.pop(0)\n",
    "            try:\n",
    "                next(task)\n",
    "            except StopIteration:\n",
    "                pass\n",
    "            else:\n",
    "                self.tasks.append(task)"
   ]
  },
  {
   "cell_type": "code",
   "execution_count": 14,
   "metadata": {},
   "outputs": [],
   "source": [
    "loop = Loop()"
   ]
  },
  {
   "cell_type": "code",
   "execution_count": 15,
   "metadata": {},
   "outputs": [],
   "source": [
    "bwason = prepare_bwason()\n",
    "manje = prepare_manje()"
   ]
  },
  {
   "cell_type": "code",
   "execution_count": 16,
   "metadata": {},
   "outputs": [],
   "source": [
    "loop.add_task(manje, bwason)"
   ]
  },
  {
   "cell_type": "code",
   "execution_count": 17,
   "metadata": {
    "scrolled": true
   },
   "outputs": [
    {
     "name": "stdout",
     "output_type": "stream",
     "text": [
      "Mande engredyan pou manje a nan kwizin nan\n",
      "Mande gode yo\n",
      "Komanse lave veson yo pou manje a\n",
      "Komanse prepare engredyan yo pou ji a\n",
      "Mande pou yo pote suk pou nou\n",
      "Voye achte lwil\n"
     ]
    }
   ],
   "source": [
    "loop.run()"
   ]
  },
  {
   "cell_type": "code",
   "execution_count": null,
   "metadata": {},
   "outputs": [],
   "source": []
  }
 ],
 "metadata": {
  "kernelspec": {
   "display_name": "Python 3",
   "language": "python",
   "name": "python3"
  },
  "language_info": {
   "codemirror_mode": {
    "name": "ipython",
    "version": 3
   },
   "file_extension": ".py",
   "mimetype": "text/x-python",
   "name": "python",
   "nbconvert_exporter": "python",
   "pygments_lexer": "ipython3",
   "version": "3.8.5"
  }
 },
 "nbformat": 4,
 "nbformat_minor": 4
}
